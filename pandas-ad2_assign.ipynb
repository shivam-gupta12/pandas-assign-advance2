{
 "cells": [
  {
   "cell_type": "code",
   "execution_count": 1,
   "id": "343849ba-8723-4e2b-8b19-670d56f35588",
   "metadata": {},
   "outputs": [],
   "source": [
    "import pandas as pd"
   ]
  },
  {
   "cell_type": "code",
   "execution_count": 3,
   "id": "1ca4a2ac-9f24-4823-bdc2-f93ff25dc884",
   "metadata": {},
   "outputs": [],
   "source": [
    "course_name = ['Data Science', 'Machine Learning', 'Big Data', 'Data Engineer']\n",
    "duration = [2,3,6,4]\n",
    "df = pd.DataFrame(data = {'course_name' : course_name, 'duration' : duration})"
   ]
  },
  {
   "cell_type": "code",
   "execution_count": 4,
   "id": "1e3df5ae-d566-4177-aa25-3a3d555e586c",
   "metadata": {},
   "outputs": [
    {
     "data": {
      "text/html": [
       "<div>\n",
       "<style scoped>\n",
       "    .dataframe tbody tr th:only-of-type {\n",
       "        vertical-align: middle;\n",
       "    }\n",
       "\n",
       "    .dataframe tbody tr th {\n",
       "        vertical-align: top;\n",
       "    }\n",
       "\n",
       "    .dataframe thead th {\n",
       "        text-align: right;\n",
       "    }\n",
       "</style>\n",
       "<table border=\"1\" class=\"dataframe\">\n",
       "  <thead>\n",
       "    <tr style=\"text-align: right;\">\n",
       "      <th></th>\n",
       "      <th>course_name</th>\n",
       "      <th>duration</th>\n",
       "    </tr>\n",
       "  </thead>\n",
       "  <tbody>\n",
       "    <tr>\n",
       "      <th>0</th>\n",
       "      <td>Data Science</td>\n",
       "      <td>2</td>\n",
       "    </tr>\n",
       "    <tr>\n",
       "      <th>1</th>\n",
       "      <td>Machine Learning</td>\n",
       "      <td>3</td>\n",
       "    </tr>\n",
       "    <tr>\n",
       "      <th>2</th>\n",
       "      <td>Big Data</td>\n",
       "      <td>6</td>\n",
       "    </tr>\n",
       "    <tr>\n",
       "      <th>3</th>\n",
       "      <td>Data Engineer</td>\n",
       "      <td>4</td>\n",
       "    </tr>\n",
       "  </tbody>\n",
       "</table>\n",
       "</div>"
      ],
      "text/plain": [
       "        course_name  duration\n",
       "0      Data Science         2\n",
       "1  Machine Learning         3\n",
       "2          Big Data         6\n",
       "3     Data Engineer         4"
      ]
     },
     "execution_count": 4,
     "metadata": {},
     "output_type": "execute_result"
    }
   ],
   "source": [
    "df"
   ]
  },
  {
   "cell_type": "markdown",
   "id": "c241996b-4348-4690-8ce3-f3410aeed2aa",
   "metadata": {},
   "source": [
    "# question 1"
   ]
  },
  {
   "cell_type": "code",
   "execution_count": 15,
   "id": "0ba49101-ee9a-4e25-a7d1-7ba2c427a360",
   "metadata": {},
   "outputs": [
    {
     "data": {
      "text/plain": [
       "course_name    Big Data\n",
       "duration              6\n",
       "Name: 2, dtype: object"
      ]
     },
     "execution_count": 15,
     "metadata": {},
     "output_type": "execute_result"
    }
   ],
   "source": [
    "df.loc[2] "
   ]
  },
  {
   "cell_type": "markdown",
   "id": "4779ca87-3a7e-47a3-a22b-a07a7ff17fd0",
   "metadata": {},
   "source": [
    "# question 2\n",
    "loc is label-based, which means that you have to specify rows and columns based on their row and column labels.\n",
    "\n",
    "iloc is integer position-based, so you have to specify rows and columns by their integer position values (0-based integer position)."
   ]
  },
  {
   "cell_type": "markdown",
   "id": "1ec55511-eec8-43dd-8482-6008cd897b92",
   "metadata": {},
   "source": [
    "# question 3"
   ]
  },
  {
   "cell_type": "code",
   "execution_count": 16,
   "id": "40f33eec-34f0-4da6-b295-cd67189141aa",
   "metadata": {},
   "outputs": [
    {
     "data": {
      "text/html": [
       "<div>\n",
       "<style scoped>\n",
       "    .dataframe tbody tr th:only-of-type {\n",
       "        vertical-align: middle;\n",
       "    }\n",
       "\n",
       "    .dataframe tbody tr th {\n",
       "        vertical-align: top;\n",
       "    }\n",
       "\n",
       "    .dataframe thead th {\n",
       "        text-align: right;\n",
       "    }\n",
       "</style>\n",
       "<table border=\"1\" class=\"dataframe\">\n",
       "  <thead>\n",
       "    <tr style=\"text-align: right;\">\n",
       "      <th></th>\n",
       "      <th>course_name</th>\n",
       "      <th>duration</th>\n",
       "    </tr>\n",
       "  </thead>\n",
       "  <tbody>\n",
       "    <tr>\n",
       "      <th>3</th>\n",
       "      <td>Data Science</td>\n",
       "      <td>2</td>\n",
       "    </tr>\n",
       "    <tr>\n",
       "      <th>0</th>\n",
       "      <td>Machine Learning</td>\n",
       "      <td>3</td>\n",
       "    </tr>\n",
       "    <tr>\n",
       "      <th>1</th>\n",
       "      <td>Big Data</td>\n",
       "      <td>6</td>\n",
       "    </tr>\n",
       "    <tr>\n",
       "      <th>2</th>\n",
       "      <td>Data Engineer</td>\n",
       "      <td>4</td>\n",
       "    </tr>\n",
       "  </tbody>\n",
       "</table>\n",
       "</div>"
      ],
      "text/plain": [
       "        course_name  duration\n",
       "3      Data Science         2\n",
       "0  Machine Learning         3\n",
       "1          Big Data         6\n",
       "2     Data Engineer         4"
      ]
     },
     "execution_count": 16,
     "metadata": {},
     "output_type": "execute_result"
    }
   ],
   "source": [
    "reindex = [3,0,1,2]\n",
    "new_df = df.set_index(pd.Index(reindex))\n",
    "new_df"
   ]
  },
  {
   "cell_type": "code",
   "execution_count": 17,
   "id": "f23cd025-9f3d-448c-b079-38ab3b5d4a38",
   "metadata": {},
   "outputs": [
    {
     "data": {
      "text/plain": [
       "course_name    Data Engineer\n",
       "duration                   4\n",
       "Name: 2, dtype: object"
      ]
     },
     "execution_count": 17,
     "metadata": {},
     "output_type": "execute_result"
    }
   ],
   "source": [
    "new_df.loc[2]"
   ]
  },
  {
   "cell_type": "code",
   "execution_count": 18,
   "id": "ab2075e8-c2d9-49d0-951a-f9c746788d3f",
   "metadata": {},
   "outputs": [
    {
     "data": {
      "text/plain": [
       "course_name    Big Data\n",
       "duration              6\n",
       "Name: 1, dtype: object"
      ]
     },
     "execution_count": 18,
     "metadata": {},
     "output_type": "execute_result"
    }
   ],
   "source": [
    "new_df.iloc[2]"
   ]
  },
  {
   "cell_type": "markdown",
   "id": "69e5b0e2-aa06-4139-ab5e-1e5453af790b",
   "metadata": {},
   "source": [
    "The difference between the outputs of the two functions is that loc selects data based on the labels we provide i.e reindexes whereas iloc selects data based on default python indexing."
   ]
  },
  {
   "cell_type": "markdown",
   "id": "52819fe6-a368-4f2c-8e1b-9cc8c53e6c83",
   "metadata": {},
   "source": [
    "--------------------------------------------------------------------------------------------------------------------------------------------------"
   ]
  },
  {
   "cell_type": "code",
   "execution_count": 20,
   "id": "3292c1c8-2a8b-4249-8c67-73542ddce3fb",
   "metadata": {},
   "outputs": [],
   "source": [
    "import pandas as pd\n",
    "import numpy as np\n",
    "columns = ['column_1', 'column_2', 'column_3', 'column_4', 'column_5', 'column_6']\n",
    "indices = [1,2,3,4,5,6]\n",
    "#Creating a dataframe:\n",
    "df1 = pd.DataFrame(np.random.rand(6,6), columns = columns, index = indices)"
   ]
  },
  {
   "cell_type": "markdown",
   "id": "4faa512c-f588-42a5-a013-5fd5a78bd67d",
   "metadata": {},
   "source": [
    "# question 4"
   ]
  },
  {
   "cell_type": "code",
   "execution_count": 21,
   "id": "bb7a30a7-30a3-4ce7-ab09-3c32ad4813aa",
   "metadata": {},
   "outputs": [
    {
     "data": {
      "text/html": [
       "<div>\n",
       "<style scoped>\n",
       "    .dataframe tbody tr th:only-of-type {\n",
       "        vertical-align: middle;\n",
       "    }\n",
       "\n",
       "    .dataframe tbody tr th {\n",
       "        vertical-align: top;\n",
       "    }\n",
       "\n",
       "    .dataframe thead th {\n",
       "        text-align: right;\n",
       "    }\n",
       "</style>\n",
       "<table border=\"1\" class=\"dataframe\">\n",
       "  <thead>\n",
       "    <tr style=\"text-align: right;\">\n",
       "      <th></th>\n",
       "      <th>column_1</th>\n",
       "      <th>column_2</th>\n",
       "      <th>column_3</th>\n",
       "      <th>column_4</th>\n",
       "      <th>column_5</th>\n",
       "      <th>column_6</th>\n",
       "    </tr>\n",
       "  </thead>\n",
       "  <tbody>\n",
       "    <tr>\n",
       "      <th>1</th>\n",
       "      <td>0.817214</td>\n",
       "      <td>0.513230</td>\n",
       "      <td>0.387238</td>\n",
       "      <td>0.156140</td>\n",
       "      <td>0.821462</td>\n",
       "      <td>0.504765</td>\n",
       "    </tr>\n",
       "    <tr>\n",
       "      <th>2</th>\n",
       "      <td>0.576943</td>\n",
       "      <td>0.901027</td>\n",
       "      <td>0.053323</td>\n",
       "      <td>0.813007</td>\n",
       "      <td>0.251136</td>\n",
       "      <td>0.248577</td>\n",
       "    </tr>\n",
       "    <tr>\n",
       "      <th>3</th>\n",
       "      <td>0.904413</td>\n",
       "      <td>0.882441</td>\n",
       "      <td>0.096217</td>\n",
       "      <td>0.723558</td>\n",
       "      <td>0.879568</td>\n",
       "      <td>0.310815</td>\n",
       "    </tr>\n",
       "    <tr>\n",
       "      <th>4</th>\n",
       "      <td>0.296704</td>\n",
       "      <td>0.853959</td>\n",
       "      <td>0.285570</td>\n",
       "      <td>0.273227</td>\n",
       "      <td>0.570399</td>\n",
       "      <td>0.859342</td>\n",
       "    </tr>\n",
       "    <tr>\n",
       "      <th>5</th>\n",
       "      <td>0.648967</td>\n",
       "      <td>0.375574</td>\n",
       "      <td>0.356296</td>\n",
       "      <td>0.003198</td>\n",
       "      <td>0.579411</td>\n",
       "      <td>0.460123</td>\n",
       "    </tr>\n",
       "    <tr>\n",
       "      <th>6</th>\n",
       "      <td>0.442186</td>\n",
       "      <td>0.185613</td>\n",
       "      <td>0.995573</td>\n",
       "      <td>0.251537</td>\n",
       "      <td>0.170925</td>\n",
       "      <td>0.513340</td>\n",
       "    </tr>\n",
       "  </tbody>\n",
       "</table>\n",
       "</div>"
      ],
      "text/plain": [
       "   column_1  column_2  column_3  column_4  column_5  column_6\n",
       "1  0.817214  0.513230  0.387238  0.156140  0.821462  0.504765\n",
       "2  0.576943  0.901027  0.053323  0.813007  0.251136  0.248577\n",
       "3  0.904413  0.882441  0.096217  0.723558  0.879568  0.310815\n",
       "4  0.296704  0.853959  0.285570  0.273227  0.570399  0.859342\n",
       "5  0.648967  0.375574  0.356296  0.003198  0.579411  0.460123\n",
       "6  0.442186  0.185613  0.995573  0.251537  0.170925  0.513340"
      ]
     },
     "execution_count": 21,
     "metadata": {},
     "output_type": "execute_result"
    }
   ],
   "source": [
    "df1"
   ]
  },
  {
   "cell_type": "markdown",
   "id": "9297c0eb-ea41-4c33-8988-cc9c207c6a73",
   "metadata": {},
   "source": [
    "1st part"
   ]
  },
  {
   "cell_type": "code",
   "execution_count": 40,
   "id": "7282fb27-66c8-46b8-97ea-e6f921557dae",
   "metadata": {},
   "outputs": [
    {
     "name": "stdout",
     "output_type": "stream",
     "text": [
      "The mean of column_1 is :  0.6144045913297955\n",
      "The mean of column_2 is :  0.6186406864164321\n",
      "The mean of column_3 is :  0.36236973026703395\n",
      "The mean of column_4 is :  0.370111110875236\n",
      "The mean of column_5 is :  0.5454835884327326\n",
      "The mean of column_6 is :  0.48282699317312766\n"
     ]
    }
   ],
   "source": [
    "for i in columns:\n",
    "    print(\"The mean of\", i , \"is : \" , df1[i].mean())"
   ]
  },
  {
   "cell_type": "markdown",
   "id": "597342a5-9e24-455c-a099-13d63a95227e",
   "metadata": {},
   "source": [
    "2nd part"
   ]
  },
  {
   "cell_type": "code",
   "execution_count": 41,
   "id": "431f69a4-c840-468b-b5f3-e999aec67ef1",
   "metadata": {},
   "outputs": [
    {
     "data": {
      "text/plain": [
       "0.30410961992793717"
      ]
     },
     "execution_count": 41,
     "metadata": {},
     "output_type": "execute_result"
    }
   ],
   "source": [
    "df1['column_2'].std()"
   ]
  },
  {
   "cell_type": "markdown",
   "id": "112d7713-6e3b-484c-84a3-6092ad7782de",
   "metadata": {},
   "source": [
    "# question 5"
   ]
  },
  {
   "cell_type": "code",
   "execution_count": 58,
   "id": "bdaee320-18e4-4969-9b87-94c1df1dee2b",
   "metadata": {},
   "outputs": [
    {
     "data": {
      "text/html": [
       "<div>\n",
       "<style scoped>\n",
       "    .dataframe tbody tr th:only-of-type {\n",
       "        vertical-align: middle;\n",
       "    }\n",
       "\n",
       "    .dataframe tbody tr th {\n",
       "        vertical-align: top;\n",
       "    }\n",
       "\n",
       "    .dataframe thead th {\n",
       "        text-align: right;\n",
       "    }\n",
       "</style>\n",
       "<table border=\"1\" class=\"dataframe\">\n",
       "  <thead>\n",
       "    <tr style=\"text-align: right;\">\n",
       "      <th></th>\n",
       "      <th>column_1</th>\n",
       "      <th>column_2</th>\n",
       "      <th>column_3</th>\n",
       "      <th>column_4</th>\n",
       "      <th>column_5</th>\n",
       "      <th>column_6</th>\n",
       "    </tr>\n",
       "  </thead>\n",
       "  <tbody>\n",
       "    <tr>\n",
       "      <th>1</th>\n",
       "      <td>0.817214</td>\n",
       "      <td>0.51323</td>\n",
       "      <td>0.387238</td>\n",
       "      <td>0.156140</td>\n",
       "      <td>0.821462</td>\n",
       "      <td>0.504765</td>\n",
       "    </tr>\n",
       "    <tr>\n",
       "      <th>2</th>\n",
       "      <td>0.576943</td>\n",
       "      <td>shivam</td>\n",
       "      <td>0.053323</td>\n",
       "      <td>0.813007</td>\n",
       "      <td>0.251136</td>\n",
       "      <td>0.248577</td>\n",
       "    </tr>\n",
       "    <tr>\n",
       "      <th>3</th>\n",
       "      <td>0.904413</td>\n",
       "      <td>0.882441</td>\n",
       "      <td>0.096217</td>\n",
       "      <td>0.723558</td>\n",
       "      <td>0.879568</td>\n",
       "      <td>0.310815</td>\n",
       "    </tr>\n",
       "    <tr>\n",
       "      <th>4</th>\n",
       "      <td>0.296704</td>\n",
       "      <td>0.853959</td>\n",
       "      <td>0.285570</td>\n",
       "      <td>0.273227</td>\n",
       "      <td>0.570399</td>\n",
       "      <td>0.859342</td>\n",
       "    </tr>\n",
       "    <tr>\n",
       "      <th>5</th>\n",
       "      <td>0.648967</td>\n",
       "      <td>0.375574</td>\n",
       "      <td>0.356296</td>\n",
       "      <td>0.003198</td>\n",
       "      <td>0.579411</td>\n",
       "      <td>0.460123</td>\n",
       "    </tr>\n",
       "    <tr>\n",
       "      <th>6</th>\n",
       "      <td>0.442186</td>\n",
       "      <td>0.185613</td>\n",
       "      <td>0.995573</td>\n",
       "      <td>0.251537</td>\n",
       "      <td>0.170925</td>\n",
       "      <td>0.513340</td>\n",
       "    </tr>\n",
       "    <tr>\n",
       "      <th>2</th>\n",
       "      <td>NaN</td>\n",
       "      <td>shivam</td>\n",
       "      <td>NaN</td>\n",
       "      <td>NaN</td>\n",
       "      <td>NaN</td>\n",
       "      <td>NaN</td>\n",
       "    </tr>\n",
       "  </tbody>\n",
       "</table>\n",
       "</div>"
      ],
      "text/plain": [
       "   column_1  column_2  column_3  column_4  column_5  column_6\n",
       "1  0.817214   0.51323  0.387238  0.156140  0.821462  0.504765\n",
       "2  0.576943    shivam  0.053323  0.813007  0.251136  0.248577\n",
       "3  0.904413  0.882441  0.096217  0.723558  0.879568  0.310815\n",
       "4  0.296704  0.853959  0.285570  0.273227  0.570399  0.859342\n",
       "5  0.648967  0.375574  0.356296  0.003198  0.579411  0.460123\n",
       "6  0.442186  0.185613  0.995573  0.251537  0.170925  0.513340\n",
       "2       NaN    shivam       NaN       NaN       NaN       NaN"
      ]
     },
     "execution_count": 58,
     "metadata": {},
     "output_type": "execute_result"
    }
   ],
   "source": [
    "df1.loc['2','column_2'] = \"shivam\"\n",
    "df1.drop(2 , axis = 1)"
   ]
  },
  {
   "cell_type": "code",
   "execution_count": 60,
   "id": "0fa40ee3-ae9a-41b4-9c22-eb3f31f69b9c",
   "metadata": {},
   "outputs": [],
   "source": [
    "# df1['column_2'].mean()  "
   ]
  },
  {
   "cell_type": "markdown",
   "id": "994cadc6-955f-4c91-866d-7a530563aa79",
   "metadata": {},
   "source": [
    "The above cell results in an error because the mean() function only supports float and int type values. In This case, there are unsupported data type values like string. So we are not able to calculate mean."
   ]
  },
  {
   "cell_type": "markdown",
   "id": "f52bcedb-0f4e-47aa-b5bd-31121d81eab7",
   "metadata": {},
   "source": [
    "# question 6"
   ]
  },
  {
   "cell_type": "markdown",
   "id": "6240e44f-ea2f-4e6c-bf96-553d3d72eac0",
   "metadata": {},
   "source": [
    "The window functions in Pandas are used to perform some sort of calculations across a set of rows that are interrelated with the current row. The windows functions help us to perform the aggregated calculations across various partitions or cross-sections of the data. Mainly, there are 3 types of window functions - aggregate ,  ranking and value."
   ]
  },
  {
   "cell_type": "markdown",
   "id": "7dea9f4b-18de-4691-b890-c2194f25f999",
   "metadata": {},
   "source": [
    "# question 7"
   ]
  },
  {
   "cell_type": "code",
   "execution_count": 74,
   "id": "0a8c5bf5-41a3-4b96-ba5a-20afdefb6ba6",
   "metadata": {},
   "outputs": [
    {
     "data": {
      "text/plain": [
       "0    2023\n",
       "Name: Date, dtype: int64"
      ]
     },
     "execution_count": 74,
     "metadata": {},
     "output_type": "execute_result"
    }
   ],
   "source": [
    "df = pd.DataFrame({\"Date\" : ['2023-03-06']})\n",
    "df['Date'] = pd.to_datetime(df['Date'])\n",
    "df['Date'].dt.year"
   ]
  },
  {
   "cell_type": "code",
   "execution_count": 75,
   "id": "e751e9a2-cb83-400d-b23e-5ebf40c70e81",
   "metadata": {},
   "outputs": [
    {
     "data": {
      "text/plain": [
       "0    3\n",
       "Name: Date, dtype: int64"
      ]
     },
     "execution_count": 75,
     "metadata": {},
     "output_type": "execute_result"
    }
   ],
   "source": [
    "df['Date'].dt.month\n"
   ]
  },
  {
   "cell_type": "markdown",
   "id": "84dbca08-0b3f-4b88-b362-161bdf675aed",
   "metadata": {},
   "source": [
    "# question 8"
   ]
  },
  {
   "cell_type": "code",
   "execution_count": 82,
   "id": "15c16488-3203-431d-afef-8ef40e4f5736",
   "metadata": {},
   "outputs": [
    {
     "name": "stdin",
     "output_type": "stream",
     "text": [
      "Enter the first date (YYYY-MM-DD):  2023-06-03\n",
      "Enter the second date (YYYY-MM-DD):  2023-06-09 \n"
     ]
    },
    {
     "name": "stdout",
     "output_type": "stream",
     "text": [
      "The difference between 2023-06-03 and 2023-06-09  is:\n",
      "6 days, 0 hours, and 0 minutes.\n"
     ]
    }
   ],
   "source": [
    "import pandas as pd\n",
    "\n",
    "# prompt the user to enter the dates\n",
    "date1_str = input(\"Enter the first date (YYYY-MM-DD): \")\n",
    "date2_str = input(\"Enter the second date (YYYY-MM-DD): \")\n",
    "\n",
    "# convert the date strings to datetime objects\n",
    "date1 = pd.to_datetime(date1_str)\n",
    "date2 = pd.to_datetime(date2_str)\n",
    "\n",
    "# calculate the time delta between the two dates\n",
    "delta = date2 - date1\n",
    "\n",
    "# extract the number of days, hours, and minutes from the time delta\n",
    "days = delta.days\n",
    "hours = delta.seconds // 3600\n",
    "minutes = (delta.seconds % 3600) // 60\n",
    "\n",
    "# display the result\n",
    "\n",
    "print(f\"The difference between {date1_str} and {date2_str} is:\")\n",
    "print(f\"{days} days, {hours} hours, and {minutes} minutes.\")"
   ]
  },
  {
   "cell_type": "markdown",
   "id": "683e1156-67a1-449a-905d-f8ff8417022d",
   "metadata": {},
   "source": [
    "# question 9"
   ]
  },
  {
   "cell_type": "code",
   "execution_count": 3,
   "id": "992017a9-6f8f-4eac-b53f-022100dfe69e",
   "metadata": {},
   "outputs": [],
   "source": [
    "data = {\"fruit\" : [\"apple\" , \"banana\" , \"orange\" , \"mango\" , \"cherry\" , \"watermelon\"] , \n",
    "        \"count\" : ['5' , '10' , '12' , '13 ' , '16' , '9']}\n",
    "df = pd.DataFrame(data)\n",
    "df.to_csv(\"fruit_Count.csv\" , index=False)\n"
   ]
  },
  {
   "cell_type": "code",
   "execution_count": 2,
   "id": "28b8c661-b742-4412-ae2a-1f7e3f80e419",
   "metadata": {},
   "outputs": [
    {
     "name": "stdin",
     "output_type": "stream",
     "text": [
      "Enter file path:  fruit_Count.csv\n",
      "Enter column name:  fruit\n",
      "Enter category order (comma-separated):  apple,cherry,mango,watermelon,banana,orange\n"
     ]
    },
    {
     "name": "stdout",
     "output_type": "stream",
     "text": [
      "        fruit  count\n",
      "0       apple      5\n",
      "4      cherry     16\n",
      "3       mango     13\n",
      "5  watermelon      9\n",
      "1      banana     10\n",
      "2      orange     12\n"
     ]
    }
   ],
   "source": [
    "file_path = input(\"Enter file path: \")\n",
    "col_name = input(\"Enter column name: \")\n",
    "df = pd.read_csv(file_path)\n",
    "df[col_name] = pd.Categorical(df[col_name])\n",
    "category_order = input(\"Enter category order (comma-separated): \").split(\",\")\n",
    "category_order = [cat.strip() for cat in category_order]\n",
    "df[col_name] = df[col_name].cat.set_categories(category_order)\n",
    "df = df.sort_values(by=col_name)\n",
    "print(df)\n"
   ]
  },
  {
   "cell_type": "markdown",
   "id": "b34b40eb-44d6-411a-9930-db1043cda5a8",
   "metadata": {},
   "source": [
    "# question 10"
   ]
  },
  {
   "cell_type": "code",
   "execution_count": 4,
   "id": "216a4065-b74e-4678-9100-1ac00bcfde51",
   "metadata": {},
   "outputs": [],
   "source": [
    "data = {\"product\" : [\"chair\" , \"bed\" , \"table\" , \"almirah\" , \"shoe-rack\" , \"bathtub\"] , \n",
    "        \"sales\" : ['15' , '10' , '12' , '13 ' , '16' , '9']}\n",
    "df = pd.DataFrame(data)\n",
    "df.to_csv(\"product_Sales.csv\" , index=False)"
   ]
  },
  {
   "cell_type": "code",
   "execution_count": 22,
   "id": "0892a3f1-ae33-4ab1-a3a5-69cf8f136169",
   "metadata": {},
   "outputs": [
    {
     "name": "stdin",
     "output_type": "stream",
     "text": [
      "Enter file path:  product_Sales.csv\n"
     ]
    },
    {
     "data": {
      "text/plain": [
       "<AxesSubplot: xlabel='Time'>"
      ]
     },
     "execution_count": 22,
     "metadata": {},
     "output_type": "execute_result"
    },
    {
     "data": {
      "image/png": "[encoded data removed]",
      "text/plain": [
       "<Figure size 640x480 with 1 Axes>"
      ]
     },
     "metadata": {},
     "output_type": "display_data"
    }
   ],
   "source": [
    "file_path = input(\"Enter file path: \")\n",
    "df = pd.read_csv(file_path)\n",
    "df.plot.bar(xlabel='Time' , stacked=True)"
   ]
  },
  {
   "cell_type": "markdown",
   "id": "fcd50f40-2529-49a0-86e5-987c96247884",
   "metadata": {},
   "source": [
    "# question 11"
   ]
  },
  {
   "cell_type": "code",
   "execution_count": 25,
   "id": "52f1a1e6-fe7c-4801-9af4-05eb7ecd00db",
   "metadata": {},
   "outputs": [],
   "source": [
    "student_data = {\"student_ID\" : ['1' , '2' , '3' , '4' , '5' , '6' , '7' , '8' , '9' ,'10' ] , \n",
    "        \"Test_Scores\" : ['85' , '90' , '80' , '75 ' , '85' , '82' , '78' , '85' ,'90' ,'85']}\n",
    "df = pd.DataFrame(student_data)\n",
    "df.to_csv(\"student_data.csv\" , index=False)"
   ]
  },
  {
   "cell_type": "code",
   "execution_count": 33,
   "id": "2eca3c6b-6f0d-4cc1-81dd-9cb12c7d019c",
   "metadata": {},
   "outputs": [
    {
     "name": "stdin",
     "output_type": "stream",
     "text": [
      "Enter file path:  student_data.csv\n"
     ]
    },
    {
     "data": {
      "text/html": [
       "<div>\n",
       "<style scoped>\n",
       "    .dataframe tbody tr th:only-of-type {\n",
       "        vertical-align: middle;\n",
       "    }\n",
       "\n",
       "    .dataframe tbody tr th {\n",
       "        vertical-align: top;\n",
       "    }\n",
       "\n",
       "    .dataframe thead th {\n",
       "        text-align: right;\n",
       "    }\n",
       "</style>\n",
       "<table border=\"1\" class=\"dataframe\">\n",
       "  <thead>\n",
       "    <tr style=\"text-align: right;\">\n",
       "      <th></th>\n",
       "      <th>Statistic</th>\n",
       "      <th>Value</th>\n",
       "    </tr>\n",
       "  </thead>\n",
       "  <tbody>\n",
       "    <tr>\n",
       "      <th>0</th>\n",
       "      <td>Mean</td>\n",
       "      <td>83.5</td>\n",
       "    </tr>\n",
       "    <tr>\n",
       "      <th>1</th>\n",
       "      <td>Median</td>\n",
       "      <td>85.0</td>\n",
       "    </tr>\n",
       "    <tr>\n",
       "      <th>2</th>\n",
       "      <td>Mode</td>\n",
       "      <td>0    85\n",
       "Name: Test_Scores, dtype: int64</td>\n",
       "    </tr>\n",
       "  </tbody>\n",
       "</table>\n",
       "</div>"
      ],
      "text/plain": [
       "  Statistic                                    Value\n",
       "0      Mean                                     83.5\n",
       "1    Median                                     85.0\n",
       "2      Mode  0    85\n",
       "Name: Test_Scores, dtype: int64"
      ]
     },
     "execution_count": 33,
     "metadata": {},
     "output_type": "execute_result"
    }
   ],
   "source": [
    "file_path = input(\"Enter file path: \")\n",
    "df = pd.read_csv(file_path)\n",
    "\n",
    "l=[]\n",
    "l.append(df['Test_Scores'].mean())\n",
    "l.append(df['Test_Scores'].median())\n",
    "l.append(df['Test_Scores'].mode())\n",
    "\n",
    "data = {\"Statistic\" : [\"Mean\" , \"Median\" , \"Mode\"] , \"Value\" : [i for i in l] }\n",
    "\n",
    "df1 = pd.DataFrame(data)\n",
    "df1\n"
   ]
  },
  {
   "cell_type": "code",
   "execution_count": null,
   "id": "6bf92730-eaaa-48d8-a4eb-c20787a98bc2",
   "metadata": {},
   "outputs": [],
   "source": []
  }
 ],
 "metadata": {
  "kernelspec": {
   "display_name": "Python 3 (ipykernel)",
   "language": "python",
   "name": "python3"
  },
  "language_info": {
   "codemirror_mode": {
    "name": "ipython",
    "version": 3
   },
   "file_extension": ".py",
   "mimetype": "text/x-python",
   "name": "python",
   "nbconvert_exporter": "python",
   "pygments_lexer": "ipython3",
   "version": "3.10.8"
  }
 },
 "nbformat": 4,
 "nbformat_minor": 5
}
